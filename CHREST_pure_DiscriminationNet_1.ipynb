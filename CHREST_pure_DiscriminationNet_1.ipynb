{
 "cells": [
  {
   "cell_type": "code",
   "execution_count": 1,
   "metadata": {},
   "outputs": [],
   "source": [
    "\"\"\"Key: p = pattern=input_list; node = smallest tree; chldrn = child edges; \n",
    "tlink = test link edge_type(branch's name)\"\"\"\n",
    "\n",
    "\"\"\"In our learning algorithm, we will need to \n",
    "manipulate patterns: – test two patterns to see if they match or are equal.\"\"\" \n",
    "\n",
    "\"\"\"p_equal tests patterns equality. Two patterns \n",
    "are equal if they contain exactly the same items (including the end marker)\"\"\"\n",
    "\n",
    "def p_equal(p1, p2):\n",
    "    return p1 == p2"
   ]
  },
  {
   "cell_type": "code",
   "execution_count": null,
   "metadata": {},
   "outputs": [],
   "source": []
  },
  {
   "cell_type": "code",
   "execution_count": 2,
   "metadata": {},
   "outputs": [],
   "source": [
    "\"\"\" p_match test if the 2 pattern match. Examples of matching: \n",
    "– <a b c> matches <a b c d> \n",
    "– <a $> does not match <a b c>\n",
    "– <a b c> does not match <a c b> \"\"\"\n",
    "\n",
    "def p_match(p1, p2):\n",
    "    if len(p1) > 0 and p1[-1] == '$':\n",
    "        if len(p1) - 1 == len(p2):\n",
    "            return p1[:-1] == p2\n",
    "    else:\n",
    "        if len(p1) <= len(p2):\n",
    "            return p1 == p2[:len(p1)]\n",
    "    return False"
   ]
  },
  {
   "cell_type": "code",
   "execution_count": 3,
   "metadata": {},
   "outputs": [
    {
     "name": "stdout",
     "output_type": "stream",
     "text": [
      "True\n",
      "False\n",
      "False\n"
     ]
    }
   ],
   "source": [
    "\"\"\"match tests\"\"\"\n",
    "print( p_match(['a','b','c'],['a','b','c','d']) )\n",
    "print( p_match(['a','$'],['a','b','c']) )\n",
    "print( p_match(['a','b','c'],['a','c','b']) )"
   ]
  },
  {
   "cell_type": "code",
   "execution_count": 4,
   "metadata": {},
   "outputs": [],
   "source": [
    "\"\"\"The difference between two non-matching patterns is the \n",
    "part of the SECOND pattern after the common part of the pattern is removed\n",
    "– <a b c> taken from <a b d c> = < d c > \n",
    "– <a b d c> taken from <a b c> = < c > \n",
    "– <a b c d> taken from <a c b d $> = < c b d $>\"\"\"\n",
    "\n",
    "def p_diff(p1, p2):                 #below we look at example [a b d c] taken from [a b c] => [c] \n",
    "    for i in range(len(p2)):        #increment up to 3 non-inclusive (length of abc))\n",
    "        if i >= len(p1) or p1[i] != p2[i]:       #if index of letter greater than pattern1 length\n",
    "                                             #OR one of the letters on both patterns do not match\n",
    "            break                            #stop the above loop\n",
    "    return p2[i:]                #return remainder of p2, starting with the 1st non-matching letter"
   ]
  },
  {
   "cell_type": "code",
   "execution_count": 5,
   "metadata": {
    "scrolled": true
   },
   "outputs": [
    {
     "name": "stdout",
     "output_type": "stream",
     "text": [
      "['d', 'c']\n",
      "['c']\n",
      "['c', 'b', 'd', '$']\n",
      "['a', 'b', 'c']\n",
      "['$']\n"
     ]
    }
   ],
   "source": [
    "\"\"\"difference tests\"\"\"\n",
    "print( p_diff(['a','b','c'],['a','b','d','c']) )\n",
    "print( p_diff(['a','b','d','c'],['a','b','c']) )\n",
    "print( p_diff(['a','b','c','d'],['a','c','b','d','$']) )\n",
    "print( p_diff([],['a','b','c']) )\n",
    "print( p_diff(['a', 'b', 'c'], ['a','b', '$']) )\n",
    "#print( p_diff(['a','b','c'],[])) #Error: local variable 'i' referenced before assignment"
   ]
  },
  {
   "cell_type": "markdown",
   "metadata": {},
   "source": [
    "            Retrieval Process flow chart. Test links = chldrn.\n",
    "![](files/Retrieval_process.jpg)"
   ]
  },
  {
   "cell_type": "code",
   "execution_count": 6,
   "metadata": {},
   "outputs": [],
   "source": [
    "\"\"\" Retrieval Process function. Takes pattern, returns node.\n",
    "UPPER \"NO->Return\" - never enters the while loop below; LOWER \"NO->Return\" implies following\n",
    "the while loop.\"\"\"\n",
    "\n",
    "def retrieve(p):\n",
    "    node = tree[0] #start at the 1st or root node (the latter skips the loop below in the beginning)\n",
    "    i = 0                          #look for chldrn/test-links \n",
    "    while i < len(node['chldrn']): #while iterator < length of chldrn list\n",
    "        l = node['chldrn'][i]\n",
    "        if p_match(tree[l]['path'], p): #check for match between pattern and chldrn and if TRUE\n",
    "            node = tree[l]              #then foolow the flow chart> current node = descendant node\n",
    "            i = 0\n",
    "        else:\n",
    "            i += 1                       #if no match go on to the next node\n",
    "    return node"
   ]
  },
  {
   "cell_type": "code",
   "execution_count": 7,
   "metadata": {},
   "outputs": [
    {
     "name": "stdout",
     "output_type": "stream",
     "text": [
      "{'tlink': ['B'], 'image': ['A', 'B'], 'chldrn': [], 'path': ['A', 'B']}\n",
      "Recalled ['A', 'B'] for ABC$\n",
      "{'tlink': ['root'], 'chldrn': [1, 2, 3], 'path': []}\n"
     ]
    }
   ],
   "source": [
    "\"\"\"Retrieval tests\"\"\"\n",
    "# tree = [{'tlink': ['root'], 'chldrn': [1, 2], 'path': []}, #работaЁт!\n",
    "#  {'tlink': ['A'], 'image': ['A', 'B'], 'chldrn': [], 'path': ['A']},\n",
    "#  {'tlink': ['B'], 'image': [], 'chldrn': [], 'path': ['B']}]\n",
    "tree = [\n",
    "    {'tlink': ['root'], 'chldrn': [1, 2, 3], 'path': []},\n",
    "    {'tlink': ['A'], 'image': ['A', 'B', 'C'], 'chldrn': [4], 'path': ['A']},\n",
    "    {'tlink': ['B'], 'image': [], 'chldrn': [], 'path': ['B']},\n",
    "    {'tlink': ['C'], 'image': [], 'chldrn': [], 'path': ['C']},\n",
    "    {'tlink': ['B'], 'image': ['A','B'], 'chldrn': [], 'path': ['A', 'B']}\n",
    "]\n",
    "# tree = [{'tlink': ['root'], 'chldrn': [1], 'path': []},\n",
    "#  {'tlink': 'A', 'image': [], 'chldrn': [], 'path': ['A']}]\n",
    "\n",
    "print(retrieve(['A','B','C','$']) ) \n",
    "print(\"Recalled\", retrieve(['A','B','C','$'])['image'], \"for ABC$\") # \"Recognise\" in CHREST GUI; NB need to add code for the root case \n",
    "print(retrieve(['D']) )\n",
    "\n"
   ]
  },
  {
   "cell_type": "code",
   "execution_count": 8,
   "metadata": {
    "scrolled": true
   },
   "outputs": [],
   "source": [
    "\"\"\"Learning Process\n",
    "(1) The pattern is sorted to a node (what does this even mean?:))\n",
    "(2) The pattern is compared with the image of the node reached \n",
    "(3) If the image matches the pattern, then familiarisation occurs \n",
    "(4) If the image mismatches the pattern, or the node is the rootnode, then discrimination occurs\"\"\"\n",
    "\n",
    "def learn(p):\n",
    "    node = retrieve(p)\n",
    "    if node['tlink'] != ['root'] and p_match(node['image'], p): #if non-root image DOES match input pattern\n",
    "        #print(\"Learn -> Familiarisation!\")\n",
    "        familiarisation(node, p)                         #never happens for root node!\n",
    "    else:                                               #if non-root image does NOT match input pattern\n",
    "        #print(\"Learn -> Descrimination!\")\n",
    "        discrimination(node, p)"
   ]
  },
  {
   "cell_type": "code",
   "execution_count": 9,
   "metadata": {},
   "outputs": [
    {
     "ename": "NameError",
     "evalue": "name 'familiarisation' is not defined",
     "output_type": "error",
     "traceback": [
      "\u001b[1;31m---------------------------------------------------------------------------\u001b[0m",
      "\u001b[1;31mNameError\u001b[0m                                 Traceback (most recent call last)",
      "\u001b[1;32m<ipython-input-9-69273183d724>\u001b[0m in \u001b[0;36m<module>\u001b[1;34m\u001b[0m\n\u001b[0;32m      4\u001b[0m     \u001b[1;33m{\u001b[0m\u001b[1;34m'tlink'\u001b[0m\u001b[1;33m:\u001b[0m \u001b[1;33m[\u001b[0m\u001b[1;34m'A'\u001b[0m\u001b[1;33m]\u001b[0m\u001b[1;33m,\u001b[0m \u001b[1;34m'image'\u001b[0m\u001b[1;33m:\u001b[0m \u001b[1;33m[\u001b[0m\u001b[1;34m'A'\u001b[0m\u001b[1;33m]\u001b[0m\u001b[1;33m,\u001b[0m \u001b[1;34m'chldrn'\u001b[0m\u001b[1;33m:\u001b[0m \u001b[1;33m[\u001b[0m\u001b[1;33m]\u001b[0m\u001b[1;33m,\u001b[0m \u001b[1;34m'path'\u001b[0m\u001b[1;33m:\u001b[0m \u001b[1;33m[\u001b[0m\u001b[1;34m'A'\u001b[0m\u001b[1;33m]\u001b[0m\u001b[1;33m}\u001b[0m \u001b[1;31m# 'A' уже в image, нужен новый node для 'B' = discrimanation\u001b[0m\u001b[1;33m\u001b[0m\u001b[0m\n\u001b[0;32m      5\u001b[0m ]\n\u001b[1;32m----> 6\u001b[1;33m \u001b[0mlearn\u001b[0m\u001b[1;33m(\u001b[0m\u001b[1;33m[\u001b[0m\u001b[1;34m'A'\u001b[0m\u001b[1;33m,\u001b[0m \u001b[1;34m'B'\u001b[0m\u001b[1;33m,\u001b[0m \u001b[1;34m'$'\u001b[0m\u001b[1;33m]\u001b[0m\u001b[1;33m)\u001b[0m\u001b[1;33m\u001b[0m\u001b[0m\n\u001b[0m",
      "\u001b[1;32m<ipython-input-8-3798aae305d5>\u001b[0m in \u001b[0;36mlearn\u001b[1;34m(p)\u001b[0m\n\u001b[0;32m      9\u001b[0m     \u001b[1;32mif\u001b[0m \u001b[0mnode\u001b[0m\u001b[1;33m[\u001b[0m\u001b[1;34m'tlink'\u001b[0m\u001b[1;33m]\u001b[0m \u001b[1;33m!=\u001b[0m \u001b[1;33m[\u001b[0m\u001b[1;34m'root'\u001b[0m\u001b[1;33m]\u001b[0m \u001b[1;32mand\u001b[0m \u001b[0mp_match\u001b[0m\u001b[1;33m(\u001b[0m\u001b[0mnode\u001b[0m\u001b[1;33m[\u001b[0m\u001b[1;34m'image'\u001b[0m\u001b[1;33m]\u001b[0m\u001b[1;33m,\u001b[0m \u001b[0mp\u001b[0m\u001b[1;33m)\u001b[0m\u001b[1;33m:\u001b[0m \u001b[1;31m#if non-root image DOES match input pattern\u001b[0m\u001b[1;33m\u001b[0m\u001b[0m\n\u001b[0;32m     10\u001b[0m         \u001b[1;31m#print(\"Learn -> Familiarisation!\")\u001b[0m\u001b[1;33m\u001b[0m\u001b[1;33m\u001b[0m\u001b[0m\n\u001b[1;32m---> 11\u001b[1;33m         \u001b[0mfamiliarisation\u001b[0m\u001b[1;33m(\u001b[0m\u001b[0mnode\u001b[0m\u001b[1;33m,\u001b[0m \u001b[0mp\u001b[0m\u001b[1;33m)\u001b[0m                         \u001b[1;31m#never happens for root node!\u001b[0m\u001b[1;33m\u001b[0m\u001b[0m\n\u001b[0m\u001b[0;32m     12\u001b[0m     \u001b[1;32melse\u001b[0m\u001b[1;33m:\u001b[0m                                               \u001b[1;31m#if non-root image does NOT match input pattern\u001b[0m\u001b[1;33m\u001b[0m\u001b[0m\n\u001b[0;32m     13\u001b[0m         \u001b[1;31m#print(\"Learn -> Descrimination!\")\u001b[0m\u001b[1;33m\u001b[0m\u001b[1;33m\u001b[0m\u001b[0m\n",
      "\u001b[1;31mNameError\u001b[0m: name 'familiarisation' is not defined"
     ]
    }
   ],
   "source": [
    "\"\"\" learn tests \"\"\"\n",
    "tree = [\n",
    "    {'tlink': ['root'], 'chldrn': [1], 'path': []}, #Fail? но итоговый выхлоп верный\n",
    "    {'tlink': ['A'], 'image': ['A'], 'chldrn': [], 'path': ['A']} # 'A' уже в image, нужен новый node для 'B' = discrimanation\n",
    "]\n",
    "learn(['A', 'B', '$'])"
   ]
  },
  {
   "cell_type": "code",
   "execution_count": 10,
   "metadata": {},
   "outputs": [],
   "source": [
    "\"\"\"Discrimination Process\n",
    "Discrimination is how new nodes get added to the network. We take the part of the input pattern \n",
    "not used so far in sorting (the difference pattern), and attempt to sort it through the network. \n",
    "1. If we stay at the root, then learn a new primitive \n",
    "2. Get the image of the retrieved node: \n",
    "    a). If it is empty, familiarise with the difference pattern \n",
    "    b). Else, make a new test link: the test is the retrieved image (without any end marker)\n",
    "    the image of the new node is the set of tests needed to reach it.\n",
    "\"\"\"\n",
    "'''\n",
    "def discrimination(node, p):\n",
    "    diff = p_diff(node['path'], p)\n",
    "    if node['tlink'] == ['root']: #if at the root:\n",
    "        tree.append({           #attach a subtree with the following params\n",
    "            'tlink': [p[0]],      #tlink/test-link name = primitive = FIRST letter of the sorted pattern\n",
    "            'image': [],\n",
    "            'chldrn': [],\n",
    "            'path': [p[0]]      #path list to include the same FIRST letter\n",
    "        })\n",
    "         #add index of the added primitive tlink (add 2-1=1 if root, since root tree was appended with another tree in lines above)\n",
    "        tree[0]['chldrn'].append(len(tree) - 1)\n",
    "    else:\n",
    "        \n",
    "        if len(node['image']) == 0:          \n",
    "            familiarisation(node, diff)      #if image empty, familiarise with the difference pattern\n",
    "        else:\n",
    "            retr_chunk = retrieve(diff)\n",
    "            if retr_chunk['tlink'] == ['root']:\n",
    "                \n",
    "            tlink = diff\n",
    "            if tlink[-1] == '$':\n",
    "                tlink.pop()\n",
    "            if len(tlink) == 0:\n",
    "                df = p_diff(node['path'], p)\n",
    "                if df == ['$'] or len(df) == 0:\n",
    "                    return\n",
    "                tlink = [df[0]]\n",
    "            \n",
    "            #print(\"discr tlink=\", tlink)\n",
    "            #else: make new test link; \n",
    "            #the test is the retrieved image (without any end marker), \n",
    "            #the image of the new node is the set of tests needed to reach it\n",
    "            tree.append({\n",
    "                'tlink': tlink,\n",
    "                'image': node['path'] + tlink,\n",
    "                'chldrn': [],\n",
    "                'path': node['path'] + tlink,\n",
    "            })\n",
    "            node['chldrn'].append(len(tree) - 1)\n",
    "            #print('node:', node)\n",
    "            #print(\"node[chldrn]:\", node['chldrn'])\n",
    "            #print('tree length:', len(tree))\n",
    "'''\n",
    "pass"
   ]
  },
  {
   "cell_type": "code",
   "execution_count": 11,
   "metadata": {},
   "outputs": [],
   "source": [
    "def discrimination(node, p):\n",
    "    new_information = p_diff(node['path'], p)\n",
    "    #print('new inf', new_information)\n",
    "    if len(new_information) == 0:\n",
    "        if retrieve(new_information)['tlink'] == new_information:\n",
    "            pass # add test #Strange empty $s added to visual in Peter's ver\n",
    "        else:\n",
    "            tree.append({           #attach a subtree with the following params\n",
    "                'tlink': new_information,      #tlink/test-link name = primitive = FIRST letter of the sorted pattern\n",
    "                'image': new_information,\n",
    "                'chldrn': [],\n",
    "                'path': [p[0]]      #path list to include the same FIRST letter\n",
    "            })\n",
    "            node['chldrn'].append(len(tree) - 1)\n",
    "    else:\n",
    "        retr_chunk = retrieve(new_information)\n",
    "        #print('retr chunk', retr_chunk)\n",
    "        if retr_chunk['tlink'] == ['root']:\n",
    "            tree.append({           #attach a subtree with the following params\n",
    "                'tlink': [new_information[0]],      #tlink/test-link name = primitive = FIRST letter of the sorted pattern\n",
    "                'image': [],\n",
    "                'chldrn': [],\n",
    "                'path': [new_information[0]]      #path list to include the same FIRST letter\n",
    "            })\n",
    "             #add index of the added primitive tlink (add 2-1=1 if root, since root tree was appended with another tree in lines above)\n",
    "            tree[0]['chldrn'].append(len(tree) - 1)\n",
    "        elif p_match(retr_chunk['path'], new_information):\n",
    "            path = node['path'] + retr_chunk['path']\n",
    "            tree.append({\n",
    "                'tlink': retr_chunk['path'],\n",
    "                'image': path,\n",
    "                'chldrn': [],\n",
    "                'path': path.copy()\n",
    "            })\n",
    "            node['chldrn'].append(len(tree) - 1)\n",
    "        else:\n",
    "            path = node['path'] + retr_chunk['tlink']\n",
    "            tree.append({\n",
    "                'tlink': retr_chunk['tlink'],\n",
    "                'image': path,\n",
    "                'chldrn': [],\n",
    "                'path': path\n",
    "            })\n",
    "            node['chldrn'].append(len(tree) - 1)"
   ]
  },
  {
   "cell_type": "code",
   "execution_count": 12,
   "metadata": {},
   "outputs": [
    {
     "data": {
      "text/plain": [
       "['d', 'a']"
      ]
     },
     "execution_count": 12,
     "metadata": {},
     "output_type": "execute_result"
    }
   ],
   "source": [
    "['d'] +['a']"
   ]
  },
  {
   "cell_type": "code",
   "execution_count": 13,
   "metadata": {},
   "outputs": [
    {
     "name": "stdout",
     "output_type": "stream",
     "text": [
      "{'tlink': ['root'], 'chldrn': [1, 2], 'path': []}\n",
      "{'tlink': ['A'], 'image': ['A'], 'chldrn': [], 'path': ['A']}\n",
      "{'tlink': ['B'], 'image': [], 'chldrn': [], 'path': ['B']}\n",
      "{'tlink': ['root'], 'chldrn': [1, 2, 3], 'path': []}\n",
      "{'tlink': ['A'], 'image': ['A', 'B', 'C'], 'chldrn': [4], 'path': ['A']}\n",
      "{'tlink': ['B'], 'image': [], 'chldrn': [], 'path': ['B']}\n",
      "{'tlink': ['C'], 'image': [], 'chldrn': [], 'path': ['C']}\n",
      "{'tlink': ['B'], 'image': ['A', 'B'], 'chldrn': [], 'path': ['A', 'B']}\n"
     ]
    }
   ],
   "source": [
    "\"\"\" discrimination tests\"\"\"\n",
    "tree = [\n",
    "    {'tlink': ['root'], 'chldrn': [1], 'path': []},\n",
    "    {'tlink': ['A'], 'image': ['A'], 'chldrn': [], 'path': ['A']}\n",
    "]\n",
    "discrimination(tree[0], ['B'])\n",
    "for line in tree:\n",
    "    print(line)\n",
    "tree = [\n",
    "    {'tlink': ['root'], 'chldrn': [1, 2, 3], 'path': []},\n",
    "    {'tlink': ['A'], 'image': ['A', 'B', 'C'], 'chldrn': [], 'path': ['A']},\n",
    "    {'tlink': ['B'], 'image': [], 'chldrn': [], 'path': ['B']},\n",
    "    {'tlink': ['C'], 'image': [], 'chldrn': [], 'path': ['C']},\n",
    "]\n",
    "discrimination(tree[1], ['A', 'B', '$'])\n",
    "for line in tree:\n",
    "    print(line)"
   ]
  },
  {
   "cell_type": "code",
   "execution_count": 14,
   "metadata": {},
   "outputs": [],
   "source": [
    "\"\"\" Familiarisation is how new information is added to the chunks in the network.\n",
    "We take the difference between the image of the retrieved node and the input \n",
    "pattern and sort it through the network.\n",
    "Three things may happen:\n",
    "1. We get the root node back, then we have to learn a new primitive, using discrimination \n",
    "2. If retrieved image is empty or larger than difference, we just add the first item \n",
    "from difference to (first) image.\n",
    "3. Otherwise, add the first item from retrieved image to the first image.\n",
    "\"\"\"\n",
    "def familiarisation(node, p):\n",
    "    diff = p_diff(node['image'], p)\n",
    "    if len(diff) == 0 or diff == ['$']: #do nothing if no diff between image and input pattern\n",
    "        return\n",
    "    if diff[-1] == '$':\n",
    "        diff.pop()\n",
    "    first = retrieve(diff)               #retrieve node using diff\n",
    "    if first['tlink'] == ['root']:\n",
    "        discrimination(first, diff)     \n",
    "    elif len(first['image']) == 0 or len(first['image']) > len(diff):\n",
    "        node['image'].append(diff[0])\n",
    "    else:\n",
    "        first['image'].append(diff[0])"
   ]
  },
  {
   "cell_type": "code",
   "execution_count": null,
   "metadata": {},
   "outputs": [],
   "source": []
  },
  {
   "cell_type": "code",
   "execution_count": 15,
   "metadata": {},
   "outputs": [],
   "source": [
    "def print_tree(node, idx=0, level=0):\n",
    "    if idx == 0:\n",
    "        print('root')\n",
    "    else:\n",
    "        indent = '-------' * level\n",
    "        tlink = '< ' + ' '.join(node['tlink']) + ' >'\n",
    "        image = '< ' + ' '.join(node['image']) + ' >'\n",
    "        text = 'Node: ' + str(idx)\n",
    "        print(indent + tlink, text, image)\n",
    "    for cidx in node['chldrn']:\n",
    "        print_tree(tree[cidx], cidx, level + 1)"
   ]
  },
  {
   "cell_type": "markdown",
   "metadata": {},
   "source": [
    "## Examples of CHREST in action\n",
    "Run one of the cells below (each one contains a series of pattern inputs), followed by the very last code cell at the very bottom of the page. "
   ]
  },
  {
   "cell_type": "code",
   "execution_count": 18,
   "metadata": {},
   "outputs": [],
   "source": [
    "inp = tuple(map(list, (\n",
    "    'AB$', 'AB$', 'AB$', 'AB$', 'AB$', 'AB$',\n",
    "    'ABC$', 'ABC$', 'ABC$',\n",
    "    'AB$', 'AB$','AB$', 'AB$',\n",
    "    'DZP$', 'DZP$', 'DZP$', 'DZP$', 'DZP$', 'DZP$', 'DZP$', 'DZP$',         #ctrl+/ to comment-uncomment \n",
    "    'ABCD$', 'ABCD$',\n",
    "    'ABC$', 'ABC$', 'ABC$',\n",
    "    'ABCD$', 'ABCD$',\n",
    "    'ABC$',\n",
    "    'ABCD$',\n",
    "    'ABCDE$', 'ABCDE$',\n",
    "    'ABCD$'\n",
    ")))\n",
    "\n",
    "tree = [                           #run from here to reset tree\n",
    "  {\n",
    "    'tlink': ['root'],\n",
    "    'chldrn': [],\n",
    "    'path': []\n",
    "  }\n",
    "]"
   ]
  },
  {
   "cell_type": "code",
   "execution_count": 16,
   "metadata": {},
   "outputs": [],
   "source": [
    "inp = tuple(map(list, (\n",
    "    'ABC$', 'ABC$', 'ABC$', 'ABC$', 'ABC$', 'ABC$',\n",
    "    'AB$',\n",
    "    'DEF$', 'DEF$', 'DEF$', 'DEF$',\n",
    "    'DAB$'\n",
    ")))\n",
    "\n",
    "tree = [                           #run from here to reset tree\n",
    "  {\n",
    "    'tlink': ['root'],\n",
    "    'chldrn': [],\n",
    "    'path': []\n",
    "  }\n",
    "]"
   ]
  },
  {
   "cell_type": "code",
   "execution_count": 20,
   "metadata": {},
   "outputs": [],
   "source": [
    "inp = tuple(map(list, (\n",
    "    'ABC$', 'ABC$', 'ABC$', 'ABC$', 'ABC$', 'ABC$',\n",
    "    'DEF$', 'DEF$', 'DEF$', 'DEF$', 'DEF$', 'DEF$',\n",
    "    'DAC$'\n",
    ")))\n",
    "\n",
    "tree = [                           #run from here to reset tree\n",
    "  {\n",
    "    'tlink': ['root'],\n",
    "    'chldrn': [],\n",
    "    'path': []\n",
    "  }\n",
    "]"
   ]
  },
  {
   "cell_type": "code",
   "execution_count": 22,
   "metadata": {},
   "outputs": [],
   "source": [
    "inp = tuple(map(list, (\n",
    "    'AB$', 'AB$', 'AB$', 'AB$',\n",
    "    'A$',\n",
    "    'AC$','AC$',\n",
    "    'A$'\n",
    "\n",
    ")))\n",
    "\n",
    "tree = [                           #run from here to reset tree\n",
    "  {\n",
    "    'tlink': ['root'],\n",
    "    'chldrn': [],\n",
    "    'path': []\n",
    "  }\n",
    "]"
   ]
  },
  {
   "cell_type": "code",
   "execution_count": 24,
   "metadata": {},
   "outputs": [],
   "source": [
    "inp = tuple(map(list, (\n",
    "    'AB$', 'AB$', 'AB$', 'AB$','AB$',\n",
    "    'AC$', 'AC$', 'AC$', 'AC$', \n",
    "    'BB$', 'BB$',\n",
    "    'BAC$'\n",
    ")))\n",
    "\n",
    "tree = [                           #run from here to reset tree\n",
    "  {\n",
    "    'tlink': ['root'],\n",
    "    'chldrn': [],\n",
    "    'path': []\n",
    "  }\n",
    "]"
   ]
  },
  {
   "cell_type": "code",
   "execution_count": 19,
   "metadata": {},
   "outputs": [
    {
     "name": "stdout",
     "output_type": "stream",
     "text": [
      "root\n",
      "-------< A > Node: 1 < A B C >\n",
      "--------------< B > Node: 4 < A B C D >\n",
      "---------------------< C > Node: 8 < A B C D E >\n",
      "----------------------------< D > Node: 11 < A B C D >\n",
      "-------< B > Node: 2 <  >\n",
      "-------< C > Node: 3 <  >\n",
      "-------< D > Node: 5 < D Z P >\n",
      "-------< Z > Node: 6 <  >\n",
      "-------< P > Node: 7 <  >\n",
      "-------< $ > Node: 9 <  >\n",
      "-------< E > Node: 10 <  >\n"
     ]
    }
   ],
   "source": [
    "for p in inp:\n",
    "    learn(p)\n",
    "    #print('learn', p)\n",
    "    #print_tree(tree[0]) #UNCOMMENT this command to see the full sequence of learning steps\n",
    "print_tree(tree[0])"
   ]
  },
  {
   "cell_type": "code",
   "execution_count": null,
   "metadata": {},
   "outputs": [],
   "source": []
  },
  {
   "cell_type": "code",
   "execution_count": null,
   "metadata": {},
   "outputs": [],
   "source": []
  }
 ],
 "metadata": {
  "kernelspec": {
   "display_name": "Python 3",
   "language": "python",
   "name": "python3"
  },
  "language_info": {
   "codemirror_mode": {
    "name": "ipython",
    "version": 3
   },
   "file_extension": ".py",
   "mimetype": "text/x-python",
   "name": "python",
   "nbconvert_exporter": "python",
   "pygments_lexer": "ipython3",
   "version": "3.7.0"
  }
 },
 "nbformat": 4,
 "nbformat_minor": 2
}
